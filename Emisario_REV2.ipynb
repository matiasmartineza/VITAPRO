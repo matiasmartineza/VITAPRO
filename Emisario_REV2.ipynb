{
  "nbformat": 4,
  "nbformat_minor": 0,
  "metadata": {
    "colab": {
      "provenance": [],
      "include_colab_link": true
    },
    "kernelspec": {
      "name": "python3",
      "display_name": "Python 3"
    },
    "language_info": {
      "name": "python"
    }
  },
  "cells": [
    {
      "cell_type": "markdown",
      "metadata": {
        "id": "view-in-github",
        "colab_type": "text"
      },
      "source": [
        "<a href=\"https://colab.research.google.com/github/matiasmartineza/VITAPRO/blob/main/Emisario_REV2.ipynb\" target=\"_parent\"><img src=\"https://colab.research.google.com/assets/colab-badge.svg\" alt=\"Open In Colab\"/></a>"
      ]
    },
    {
      "cell_type": "code",
      "source": [
        "import math\n",
        "import matplotlib.pyplot as plt\n",
        "import math\n",
        "from scipy.optimize import newton\n",
        "import numpy as np\n",
        "import pandas as pd\n",
        "from tabulate import tabulate\n"
      ],
      "metadata": {
        "id": "0VoRvDQrP6Or"
      },
      "execution_count": 10,
      "outputs": []
    },
    {
      "cell_type": "markdown",
      "source": [
        "#Selección de diámetro según criterio de velocidad"
      ],
      "metadata": {
        "id": "T_cDiZD1Qaeh"
      }
    },
    {
      "cell_type": "code",
      "source": [
        "def calcular_velocidad_fluido(caudal, diam_ext, espesor, porcentaje_aire):\n",
        "    \"\"\"\n",
        "    Esta función calcula la velocidad del fluido en una tubería de HDPE PE100.\n",
        "\n",
        "    Parámetros:\n",
        "    caudal (float): Caudal en m3/h.\n",
        "    diam_ext (float): Diámetro externo de la tubería en mm.\n",
        "    espesor (float): Espesor de la tubería en mm.\n",
        "    porcentaje_aire (float): Porcentaje de aire en la tubería.\n",
        "\n",
        "    Retorna:\n",
        "    velocidad (float): Velocidad del fluido en m/s.\n",
        "    \"\"\"\n",
        "    # Convertimos el caudal de m3/h a m3/s\n",
        "    caudal_m3s = caudal / 3600\n",
        "\n",
        "    # Convertimos las medidas de mm a m\n",
        "    diam_ext_m = diam_ext / 1000\n",
        "    espesor_m = espesor / 1000\n",
        "\n",
        "    # Calculamos el diámetro interno de la tubería\n",
        "    diam_int_m = diam_ext_m - 2 * espesor_m\n",
        "\n",
        "    # Calculamos el área de la sección transversal de la tubería\n",
        "    area_m2 = math.pi * (diam_int_m / 2) ** 2\n",
        "\n",
        "    # Ajustamos el área según el porcentaje de aire en la tubería\n",
        "    area_ajustada_m2 = area_m2 * (1 - porcentaje_aire / 100)\n",
        "\n",
        "    # Calculamos la velocidad del fluido en la tubería\n",
        "    velocidad = caudal_m3s / area_ajustada_m2\n",
        "\n",
        "    return velocidad"
      ],
      "metadata": {
        "id": "VjAVQ4F1nwsO"
      },
      "execution_count": 11,
      "outputs": []
    },
    {
      "cell_type": "code",
      "source": [
        "# Parámetros fijos\n",
        "caudal = 560/2  # m3/h\n",
        "porcentaje_aire = 20  # % de aire\n",
        "\n",
        "# Lista de tuberías con diámetros externos y espesores (SDR 26)\n",
        "tuberias = [\n",
        "    {\"d_ext\": 315, \"espesor\": 12.1},\n",
        "    {\"d_ext\": 355, \"espesor\": 13.7},\n",
        "    {\"d_ext\": 400, \"espesor\": 15.4},\n",
        "    {\"d_ext\": 450, \"espesor\": 17.3},\n",
        "    {\"d_ext\": 500, \"espesor\": 19.2},\n",
        "    {\"d_ext\": 560, \"espesor\": 21.5},\n",
        "    {\"d_ext\": 630, \"espesor\": 24.2},\n",
        "]\n",
        "\n",
        "# Calcular las velocidades de flujo y diámetros internos\n",
        "velocidades = []\n",
        "diametros_internos = []\n",
        "\n",
        "for tuberia in tuberias:\n",
        "    d_ext = tuberia[\"d_ext\"]\n",
        "    espesor = tuberia[\"espesor\"]\n",
        "    velocidad = calcular_velocidad_fluido(caudal, d_ext, espesor, porcentaje_aire)\n",
        "    diam_int = d_ext - 2 * espesor\n",
        "\n",
        "    velocidades.append(velocidad)\n",
        "    diametros_internos.append(diam_int)\n",
        "\n",
        "# Graficar la velocidad de flujo en función del diámetro interno de la tubería\n",
        "plt.plot(diametros_internos, velocidades, marker='o', linestyle='-')\n",
        "plt.xlabel('Diámetro interno (mm)')\n",
        "plt.ylabel('Velocidad de flujo (m/s)')\n",
        "plt.title('Velocidad de flujo vs. Diámetro interno')\n",
        "\n",
        "# Etiquetar los puntos en el gráfico con los diámetros externos\n",
        "for d_ext, d_int, vel in zip([t[\"d_ext\"] for t in tuberias], diametros_internos, velocidades):\n",
        "    plt.annotate(\n",
        "        f\"D ext = {d_ext} mm\",\n",
        "        (d_int, vel),\n",
        "        textcoords=\"offset points\",\n",
        "        xytext=(0, 5),\n",
        "        ha='center',\n",
        "    )\n",
        "\n",
        "# Agregar una línea horizontal a la altura de 1 m/s\n",
        "plt.axhline(y=1, color='r', linestyle='--', label='1 m/s')\n",
        "plt.legend()\n",
        "\n",
        "# Mostrar el gráfico\n",
        "plt.show()\n"
      ],
      "metadata": {
        "id": "87t6rKhdsRPU",
        "colab": {
          "base_uri": "https://localhost:8080/",
          "height": 472
        },
        "outputId": "f32a5ae2-a56e-47b2-ac9e-a94ca87d4b34"
      },
      "execution_count": 12,
      "outputs": [
        {
          "output_type": "display_data",
          "data": {
            "text/plain": [
              "<Figure size 640x480 with 1 Axes>"
            ],
            "image/png": "[encoded data removed]"
          },
          "metadata": {}
        }
      ]
    },
    {
      "cell_type": "markdown",
      "source": [
        "#Pérdidas de energía en Emisario"
      ],
      "metadata": {
        "id": "3MvRJCx4QoJt"
      }
    },
    {
      "cell_type": "markdown",
      "source": [
        "##Integración de fracción de aire al modelo para cálculo de viscosidad equivalente"
      ],
      "metadata": {
        "id": "7Yjxuat7QtWu"
      }
    },
    {
      "cell_type": "code",
      "source": [
        "rho_agua = 1000  # kg/m^3\n",
        "mu_agua = 1.0e-3  # kg/m s\n",
        "fraccion_aire = porcentaje_aire / 100\n",
        "\n",
        "rho_efectiva, mu_efectiva = rho_agua, mu_agua\n",
        "\n",
        "nu = mu_efectiva / rho_efectiva"
      ],
      "metadata": {
        "id": "lGPLgwBXOJHQ"
      },
      "execution_count": 13,
      "outputs": []
    },
    {
      "cell_type": "markdown",
      "source": [
        "##Definición de datos"
      ],
      "metadata": {
        "id": "RZ69Ls5HRmXJ"
      }
    },
    {
      "cell_type": "code",
      "source": [
        "# Datos de entrada\n",
        "tuberia_seleccionada = {\"d_ext\": 355, \"espesor\": 13.6}\n",
        "#tuberia_seleccionada = {\"d_ext\": 400, \"espesor\": 15.3}\n",
        "\n",
        "caudal = 560/2  # m3/h\n",
        "L = 254.14  # Longitud de la tubería (m)\n",
        "k_s = 0.0001 * 1.2  # Rugosidad absoluta de la tubería (m), un valor típico para HDPE\n",
        "\n",
        "# Datos de vector pérdidas locales\n",
        "coef_entrada = 0.5  # Coeficiente de entrada (entrada redondeada)\n",
        "coef_descarga = 1.0  # Coeficiente de descarga\n",
        "coef_codo_90 = 0.9  # Coeficiente para codos de 90 grados de radio largo\n",
        "\n",
        "# Crear el vector de pérdidas de carga\n",
        "singularidades = np.array([coef_entrada, coef_codo_90, coef_codo_90, coef_descarga])"
      ],
      "metadata": {
        "id": "9ciATMU7mBJZ"
      },
      "execution_count": 24,
      "outputs": []
    },
    {
      "cell_type": "markdown",
      "source": [
        "##Cálculo de pérdidas de carga"
      ],
      "metadata": {
        "id": "ZEMbZIQbqvg2"
      }
    },
    {
      "cell_type": "code",
      "source": [
        "def colebrook_white(f, Re, k_s, D):\n",
        "    return 1 / math.sqrt(f) + 2 * math.log10( (k_s / (3.7 * D)) + (2.51 / (Re * math.sqrt(f))) )\n",
        "\n",
        "def calcular_perdida_carga(v, D, L, k_s, nu, g=9.81):\n",
        "    # Calcular el número de Reynolds\n",
        "    Re = (v * D) / nu\n",
        "\n",
        "    # Resolver la ecuación de Colebrook-White para el coeficiente de fricción de Darcy (f)\n",
        "    f_initial_guess = 0.02\n",
        "    f = newton(colebrook_white, f_initial_guess, args=(Re, k_s, D))\n",
        "    print(f)\n",
        "\n",
        "    # Calcular la pérdida de carga usando la fórmula de Darcy-Weisbach\n",
        "    h_L = f * (L / D) * (v ** 2) / (2 * g)\n",
        "\n",
        "    return h_L\n",
        "\n",
        "def calcular_perdida_carga_total(v, D, L, k_s, nu, singularidades, g=9.81):\n",
        "    # Calcular la pérdida de carga principal\n",
        "    h_L = calcular_perdida_carga(v, D, L, k_s, nu, g)\n",
        "\n",
        "    # Calcular las pérdidas de carga locales por singularidades\n",
        "    h_L_singularidades = sum(K * (v ** 2) / (2 * g) for K in singularidades)\n",
        "\n",
        "    # Calcular la pérdida de carga total\n",
        "    h_L_total = h_L + h_L_singularidades\n",
        "\n",
        "    return h_L_total\n",
        "\n",
        "# Calcular la velocidad del fluido\n",
        "velocidad = calcular_velocidad_fluido(caudal, tuberia_seleccionada[\"d_ext\"], tuberia_seleccionada[\"espesor\"], porcentaje_aire)\n",
        "\n",
        "# Calcular el diámetro interno de la tubería en metros\n",
        "d_int_m = (tuberia_seleccionada[\"d_ext\"] - 2 * tuberia_seleccionada[\"espesor\"]) / 1000\n",
        "\n",
        "# Calcular la pérdida de carga total\n",
        "h_L_total = calcular_perdida_carga_total(velocidad, d_int_m, L, k_s, nu, singularidades)\n",
        "\n",
        "# Imprimir la pérdida de carga total\n",
        "print(f\"La pérdida de carga total en el emisario submarino es de {h_L_total:.2f} metros.\")"
      ],
      "metadata": {
        "colab": {
          "base_uri": "https://localhost:8080/",
          "height": 0
        },
        "id": "RWHZiDLYRw_H",
        "outputId": "3a4c1f38-9281-4dc9-bbff-403b9de25f07"
      },
      "execution_count": 25,
      "outputs": [
        {
          "output_type": "stream",
          "name": "stdout",
          "text": [
            "0.017091526119813554\n",
            "La pérdida de carga total en el emisario submarino es de 1.12 metros.\n"
          ]
        }
      ]
    },
    {
      "cell_type": "code",
      "source": [
        "import pandas as pd\n",
        "from tabulate import tabulate\n",
        "\n",
        "def datos_tuberia(d_ext, espesor, caudal, porcentaje_aire, L, k_s, nu):\n",
        "    velocidad = calcular_velocidad_fluido(caudal, d_ext, espesor, porcentaje_aire)\n",
        "    d_int_m = (d_ext - 2 * espesor) / 1000\n",
        "    Re = (velocidad * d_int_m) / nu\n",
        "\n",
        "    f_initial_guess = 0.02\n",
        "    f = newton(colebrook_white, f_initial_guess, args=(Re, k_s, d_int_m))\n",
        "    h_L = calcular_perdida_carga(velocidad, d_int_m, L, k_s, nu)\n",
        "    h_L_total = calcular_perdida_carga_total(velocidad, d_int_m, L, k_s, nu, singularidades)\n",
        "\n",
        "    return {\n",
        "        \"d_int_m\": d_int_m,\n",
        "        \"caudal\": caudal,\n",
        "        \"velocidad\": velocidad,\n",
        "        \"Re\": Re,\n",
        "        \"k_s\": k_s,\n",
        "        \"f\": f,\n",
        "        \"L\": L,\n",
        "        \"h_L\": h_L,\n",
        "        \"h_L_total\": h_L_total - h_L,\n",
        "        \"h_Lt\": h_L_total\n",
        "    }\n",
        "\n",
        "def datos_fittings():\n",
        "    return [\n",
        "        {\"elemento\": \"Entrada redondeada\", \"cantidad\": 1, \"K\": coef_entrada},\n",
        "        {\"elemento\": \"Codo 90°\", \"cantidad\": 2, \"K\": coef_codo_90},\n",
        "        {\"elemento\": \"Descarga\", \"cantidad\": 1, \"K\": coef_descarga},\n",
        "    ]\n",
        "\n",
        "def mostrar_tablas(tuberia_seleccionada, caudal, porcentaje_aire, L, k_s, nu):\n",
        "    # Crear el DataFrame de datos de tubería\n",
        "    datos = datos_tuberia(tuberia_seleccionada[\"d_ext\"], tuberia_seleccionada[\"espesor\"], caudal, porcentaje_aire, L, k_s, nu)\n",
        "    datos_redondeados = {key: round(value, 4) for key, value in datos.items()}\n",
        "    df_tuberia = pd.DataFrame([datos_redondeados])\n",
        "\n",
        "    # Renombrar las columnas y agregar unidades de medida\n",
        "    columnas_profesionales = {\n",
        "        \"d_int_m\": \"Diámetro\\ninterno (m)\",\n",
        "        \"caudal\": \"Caudal\\n(m³/h)\",\n",
        "        \"velocidad\": \"Velocidad\\n(m/s)\",\n",
        "        \"Re\": \"Número de\\nReynolds\",\n",
        "        \"k_s\": \"Rugosidad\\nabsoluta (m)\",\n",
        "        \"f\": \"Factor de\\nfricción\",\n",
        "        \"L\": \"Longitud de\\nla tubería (m)\",\n",
        "        \"h_L\": \"Pérdidas mayores\\nde carga (m)\",\n",
        "        \"h_L_total\": \"Pérdidas de carga\\nsingularidades (m)\",\n",
        "        \"h_Lt\": \"Pérdidas de carga\\ntotales (m)\"\n",
        "    }\n",
        "    df_tuberia.rename(columns=columnas_profesionales, inplace=True)\n",
        "\n",
        "    # Crear el DataFrame de datos de fittings\n",
        "    df_fittings = pd.DataFrame(datos_fittings())\n",
        "\n",
        "    # Renombrar las columnas y agregar unidades de medida\n",
        "    columnas_fittings_profesionales = {\n",
        "        \"elemento\": \"Elemento\",\n",
        "        \"cantidad\": \"Cantidad\",\n",
        "        \"K\": \"Coeficiente K\",\n",
        "    }\n",
        "    df_fittings.rename(columns=columnas_fittings_profesionales, inplace=True)\n",
        "\n",
        "    # Mostrar las tablas con tabulate\n",
        "    print(\"Tabla de datos de tubería:\\n\")\n",
        "    print(tabulate(df_tuberia, headers=\"keys\", tablefmt=\"pretty\"))\n",
        "    print(\"\\nTabla de datos de fittings:\\n\")\n",
        "    print(tabulate(df_fittings, headers=\"keys\", tablefmt=\"pretty\"))\n",
        "\n",
        "# Ejemplo de uso de la función mostrar_tablas\n",
        "mostrar_tablas(tuberia_seleccionada, caudal, porcentaje_aire, L, k_s, nu)\n"
      ],
      "metadata": {
        "colab": {
          "base_uri": "https://localhost:8080/",
          "height": 0
        },
        "id": "_TM7p5v_ymPb",
        "outputId": "4127af6b-4f9d-4087-8d5d-0d2c539cc1f0"
      },
      "execution_count": 26,
      "outputs": [
        {
          "output_type": "stream",
          "name": "stdout",
          "text": [
            "0.017091526119813554\n",
            "0.017091526119813554\n",
            "Tabla de datos de tubería:\n",
            "\n",
            "+---+-------------+--------+-----------+-------------+--------------+-----------+----------------+------------------+--------------------+-------------------+\n",
            "|   |  Diámetro   | Caudal | Velocidad |  Número de  |  Rugosidad   | Factor de |  Longitud de   | Pérdidas mayores | Pérdidas de carga  | Pérdidas de carga |\n",
            "|   | interno (m) | (m³/h) |   (m/s)   |  Reynolds   | absoluta (m) | fricción  | la tubería (m) |   de carga (m)   | singularidades (m) |    totales (m)    |\n",
            "+---+-------------+--------+-----------+-------------+--------------+-----------+----------------+------------------+--------------------+-------------------+\n",
            "| 0 |   0.3278    | 280.0  |   1.152   | 377630.1951 |    0.0001    |  0.0171   |     254.14     |      0.8963      |       0.2232       |      1.1195       |\n",
            "+---+-------------+--------+-----------+-------------+--------------+-----------+----------------+------------------+--------------------+-------------------+\n",
            "\n",
            "Tabla de datos de fittings:\n",
            "\n",
            "+---+--------------------+----------+---------------+\n",
            "|   |      Elemento      | Cantidad | Coeficiente K |\n",
            "+---+--------------------+----------+---------------+\n",
            "| 0 | Entrada redondeada |    1     |      0.5      |\n",
            "| 1 |      Codo 90°      |    2     |      0.9      |\n",
            "| 2 |      Descarga      |    1     |      1.0      |\n",
            "+---+--------------------+----------+---------------+\n"
          ]
        }
      ]
    },
    {
      "cell_type": "markdown",
      "source": [
        "##Evaluación de energía del sistema"
      ],
      "metadata": {
        "id": "sTGhCT3qrW6C"
      }
    },
    {
      "cell_type": "code",
      "source": [
        "def comparar_energias(h_disp, h_perdida, h_profundidad, rho_emisario, rho_mar, g=9.81):\n",
        "    \"\"\"\n",
        "    Esta función compara la energía disponible con la energía necesaria para que el agua llegue a la\n",
        "    salida del emisario, teniendo en cuenta las pérdidas de energía y la diferencia de cota entre la\n",
        "    marea más alta y la salida del emisario. También considera las densidades del fluido que transporta\n",
        "    el emisario y el agua de mar del cuerpo receptor.\n",
        "\n",
        "    Parámetros:\n",
        "    h_disp (float): Altura disponible desde la salida del emisario de la planta de tratamiento hasta\n",
        "                    la cota de marea más alta (m).\n",
        "    h_perdida (float): Pérdida de carga total en el emisario submarino (m).\n",
        "    h_profundidad (float): Diferencia de cota desde la marea más alta hasta la desembocadura del emisario (m).\n",
        "    rho_emisario (float): Densidad del fluido que transporta el emisario (kg/m³).\n",
        "    rho_mar (float): Densidad del agua de mar del cuerpo receptor (kg/m³).\n",
        "    g (float): Aceleración de la gravedad (m/s²). Por defecto es 9.81 m/s².\n",
        "\n",
        "    Retorna:\n",
        "    delta_energia (float): La diferencia entre la energía disponible y la energía necesaria para el transporte.\n",
        "                          Si es positiva, el transporte se puede llevar a cabo. Si es negativa, es porque falta energía.\n",
        "    \"\"\"\n",
        "    # Calcular la energía disponible\n",
        "    energia_disponible = (h_disp + h_profundidad) * rho_emisario * g\n",
        "\n",
        "    # Calcular la energía necesaria para superar las pérdidas de energía y alcanzar la salida del emisario\n",
        "    energia_necesaria = h_perdida * rho_emisario * g + h_profundidad * rho_mar * g\n",
        "\n",
        "    # Comparar las energías\n",
        "    return energia_disponible - energia_necesaria\n",
        "\n",
        "# Ejemplo de uso de la función comparar_energias\n",
        "altura_disp = 2.86 # m\n",
        "rho_mar = 1025  # kg/m³ (estimación)\n",
        "h_profundidad = 27.46 # m\n",
        "\n",
        "#resultado = comparar_energias(altura_disp, h_L_total, h_profundidad, rho_efectiva, rho_mar)\n",
        "resultado = comparar_energias(altura_disp, h_L_total, h_profundidad, 1000, rho_mar)\n",
        "print('delta_energia =', resultado / (9.81 * 1000), ' m')\n"
      ],
      "metadata": {
        "colab": {
          "base_uri": "https://localhost:8080/",
          "height": 0
        },
        "id": "nCfLFkTzcsj1",
        "outputId": "508706d3-5c71-4062-a473-0c4a5de455ee"
      },
      "execution_count": 27,
      "outputs": [
        {
          "output_type": "stream",
          "name": "stdout",
          "text": [
            "delta_energia = 1.0539647481416172  m\n"
          ]
        }
      ]
    },
    {
      "cell_type": "code",
      "source": [
        "import matplotlib.pyplot as plt\n",
        "import numpy as np\n",
        "\n",
        "def plot_energy_levels(altura_disp, h_L_total, h_profundidad, rho_emisario, rho_mar):\n",
        "    energia_disponible = (altura_disp + h_profundidad) * 1000 * 9.81\n",
        "    energia_mar = h_profundidad * rho_mar * 9.81\n",
        "    energia_perdida = h_L_total * 1000 * 9.81\n",
        "\n",
        "    fig, ax = plt.subplots()\n",
        "\n",
        "    barWidth = 0.2\n",
        "    r1 = np.arange(1)\n",
        "    r2 = [x + barWidth for x in r1]\n",
        "\n",
        "    offset = 25 * 1000 * 9.81  # Offset de 25 m\n",
        "    plt.bar(r1, (energia_disponible - offset) / 9810, width=barWidth, label='Energía Disponible columna emisario', bottom=offset / 9810)\n",
        "    plt.bar(r2, (energia_perdida + energia_mar - offset) / 9810, width=barWidth, label='Pérdidas de energía', color='darkorange', bottom=offset / 9810)\n",
        "    plt.bar(r2, (energia_mar - offset) / 9810, width=barWidth, label='Presión del Mar', color='orangered', bottom=offset / 9810)\n",
        "\n",
        "    plt.ylabel('Head (m)')\n",
        "    plt.title('Comparación de energías en el emisario')\n",
        "    plt.xticks([r1[0], r2[0]], ['Disponible', 'Necesaria'])\n",
        "\n",
        "    # Calcular y mostrar la diferencia de altura entre las barras\n",
        "    delta_altura = ((energia_disponible - energia_perdida - energia_mar) / 9810)\n",
        "\n",
        "    # Posicionar las etiquetas a la derecha del gráfico\n",
        "    ax.annotate(f'Diferencia = {delta_altura:.2f} m', xy=(1, h_profundidad + altura_disp), xytext=(1.1, h_profundidad + altura_disp),\n",
        "                fontsize=10, verticalalignment='center')\n",
        "\n",
        "    # Mover la leyenda a la derecha del gráfico\n",
        "    plt.legend(bbox_to_anchor=(1.05, .5), loc='upper left', borderaxespad=0.)\n",
        "\n",
        "    plt.show()\n",
        "\n",
        "plot_energy_levels(altura_disp, h_L_total, h_profundidad, rho_efectiva, rho_mar)\n"
      ],
      "metadata": {
        "colab": {
          "base_uri": "https://localhost:8080/",
          "height": 453
        },
        "id": "bgVowG2VLndU",
        "outputId": "e8b7e1d7-f1c1-4393-e8c3-85b8611d1878"
      },
      "execution_count": 28,
      "outputs": [
        {
          "output_type": "display_data",
          "data": {
            "text/plain": [
              "<Figure size 640x480 with 1 Axes>"
            ],
            "image/png": "[encoded data removed]"
          },
          "metadata": {}
        }
      ]
    },
    {
      "cell_type": "markdown",
      "source": [
        "#Evaluación estructural"
      ],
      "metadata": {
        "id": "ov70oZV_vLzS"
      }
    },
    {
      "cell_type": "markdown",
      "source": [
        "##Cálculo de Peso y Empuje"
      ],
      "metadata": {
        "id": "susXLAOwCxYF"
      }
    },
    {
      "cell_type": "code",
      "source": [
        "import math\n",
        "import numpy as np\n",
        "\n",
        "sdr = np.array([41, 32.5, 26, 21, 19, 17, 11])\n",
        "resistencias = np.array([2.8, 3.6, 4.5, 5.6, 6.3, 7.0, 11.2]) * 98066.5"
      ],
      "metadata": {
        "id": "jNwVq8yuWQv4"
      },
      "execution_count": null,
      "outputs": []
    },
    {
      "cell_type": "code",
      "source": [
        "# Constantes\n",
        "DENSIDAD_HDPE = 950\n",
        "DENSIDAD_AGUA = 1000\n",
        "DENSIDAD_AGUA_MAR = 1025\n",
        "DENSIDAD_AIRE = 1.29\n",
        "\n",
        "\n",
        "DIAMETRO_EXT = tuberia_seleccionada[\"d_ext\"] / 1000.\n",
        "ESPESOR = tuberia_seleccionada[\"espesor\"] / 1000.\n",
        "\n",
        "porcentaje_aire = 20\n",
        "def peso_tubo(diametro_exterior, espesor, densidad_hdpe, densidad_aire, densidad_agua, densidad_agua_mar, porcentaje_aire):\n",
        "    radio_exterior = diametro_exterior / 2\n",
        "    radio_interior = radio_exterior - espesor\n",
        "    volumen_exterior = math.pi * radio_exterior**2\n",
        "    volumen_interior = math.pi * radio_interior**2\n",
        "    volumen_tubo = volumen_exterior - volumen_interior\n",
        "    masa = volumen_tubo * (densidad_hdpe) + volumen_interior * porcentaje_aire * densidad_aire / 100. + volumen_interior * (100. - porcentaje_aire) * densidad_agua / 100.\n",
        "    return masa * 9.81\n",
        "\n",
        "def empuje_agua_mar(diametro_exterior, espesor, densidad_agua_mar):\n",
        "    radio_exterior = diametro_exterior / 2\n",
        "    volumen_exterior = math.pi * radio_exterior**2\n",
        "    empuje = volumen_exterior * densidad_agua_mar\n",
        "    return empuje * 9.81\n",
        "\n",
        "# Calcular peso y empuje\n",
        "peso_total = peso_tubo(DIAMETRO_EXT, ESPESOR, DENSIDAD_HDPE, DENSIDAD_AIRE, DENSIDAD_AGUA, DENSIDAD_AGUA_MAR, porcentaje_aire)\n",
        "empuje = empuje_agua_mar(DIAMETRO_EXT, ESPESOR, DENSIDAD_AGUA_MAR)\n",
        "\n",
        "print(f\"Peso del tubo: {peso_total:.2f} N/m\")\n",
        "print(f\"Empuje ejercido por el agua de mar: {empuje:.2f} N/m\")"
      ],
      "metadata": {
        "colab": {
          "base_uri": "https://localhost:8080/"
        },
        "id": "rYr3n4HxkvmR",
        "outputId": "82b8fb6b-06f6-4188-eaa3-4370f177f65f"
      },
      "execution_count": null,
      "outputs": [
        {
          "output_type": "stream",
          "name": "stdout",
          "text": [
            "Peso del tubo: 798.47 N/m\n",
            "Empuje ejercido por el agua de mar: 995.27 N/m\n"
          ]
        }
      ]
    },
    {
      "cell_type": "markdown",
      "source": [
        "## Cálculo de Sustentación y Arrastre"
      ],
      "metadata": {
        "id": "AQWdc7w6C3kk"
      }
    },
    {
      "cell_type": "code",
      "source": [
        "def lift_drag_wave(Hwave, Twave, Vwind, Vc, fref, CL_wave, CD_wave, rho_sw, g, De, Ae):\n",
        "    Lwave = (g * Twave**2) / (2 * math.pi)\n",
        "    FD_wave = (CD_wave * fref**2 * rho_sw * g * Ae * Hwave**2) / (Lwave * De)\n",
        "    FL_wave = (CL_wave * fref**2 * rho_sw * g * Ae * Hwave**2) / (Lwave * De)\n",
        "    return FL_wave, FD_wave\n",
        "\n",
        "def lift_drag_current(Vc, CL_c, CD_c, rho_sw, g, De):\n",
        "    FL_c = 0.5 * CL_c * rho_sw * Vc**2 * De\n",
        "    FD_c = 0.5 * CD_c * rho_sw * Vc**2 * De\n",
        "    return FL_c, FD_c\n",
        "\n",
        "Hwave = 3 # Altura de la ola en m\n",
        "Twave = 14 # Periodo de la ola en s\n",
        "Vwind = 20 # Velocidad del ciento en m/s\n",
        "fref = 0.9 # Coeficiente de refracción adimensional\n",
        "CL_wave = 1.5 #Coeficiente de sustentación debido al oleaje\n",
        "CD_wave = 1.0 #Coeficiente de arrastre debijo al oleaje\n",
        "\n",
        "Vc = 0.4 # Velocidad de la corriente en m/s\n",
        "CL_c = 1.5 #Coeficiente de sustentación debido a la corriente\n",
        "CD_c = 1.2 #Coeficiente de arrastre debijo a la corriente\n",
        "\n",
        "De = DIAMETRO_EXT\n",
        "Ae = (De ** 2) * math.pi / 4.0\n",
        "\n",
        "# Calcular lift y drag para oleaje y corriente marina\n",
        "lift_w, drag_w = lift_drag_wave(Hwave, Twave, Vwind, Vc, fref, CL_wave, CD_wave, DENSIDAD_AGUA_MAR, 9.81, De, Ae)\n",
        "lift_c, drag_c = lift_drag_current(Vc, CL_c, CD_c, DENSIDAD_AGUA_MAR, 9.81, De)\n",
        "\n",
        "drag = drag_w + drag_c\n",
        "lift = lift_w + lift_c\n",
        "\n",
        "import pandas as pd\n",
        "from tabulate import tabulate\n",
        "\n",
        "# Parámetros de entrada\n",
        "input_params = {\n",
        "    'Parámetro': ['Altura de la ola', 'Periodo de la ola', 'Velocidad del viento', 'Coeficiente de refracción',\n",
        "                  'Coef. de sustentación oleaje', 'Coef. de arrastre oleaje', 'Velocidad de corriente',\n",
        "                  'Coef. de sustentación corriente', 'Coef. de arrastre corriente', 'Diámetro exterior',\n",
        "                  'Área efectiva'],\n",
        "    'Unidad': ['m', 's', 'm/s', '-', '-', '-', 'm/s', '-',\n",
        "               '-', 'm', 'm^2'],\n",
        "    'Valor': [Hwave, Twave, Vwind, fref, CL_wave, CD_wave, Vc, CL_c, CD_c, De, Ae]\n",
        "}\n",
        "\n",
        "input_df = pd.DataFrame(input_params)\n",
        "\n",
        "# Resultados\n",
        "results = {\n",
        "    'Fuerza de\\nsustentación oleaje\\n(N/m)': [lift_w],\n",
        "    'Fuerza de\\narrastre oleaje\\n(N/m)': [drag_w],\n",
        "    'Fuerza de\\nsustentación corriente\\n(N/m)': [lift_c],\n",
        "    'Fuerza de\\narrastre corriente\\n(N/m)': [drag_c],\n",
        "    'Fuerza de\\nsustentación total\\n(N/m)': [lift],\n",
        "    'Fuerza de\\narrastre total\\n(N/m)': [drag]\n",
        "}\n",
        "\n",
        "results_df = pd.DataFrame(results)\n",
        "\n",
        "# Imprimir las tablas\n",
        "print(\"Parámetros de entrada:\")\n",
        "print(tabulate(input_df, headers='keys', tablefmt='psql', showindex=False))\n",
        "\n",
        "print(\"\\nResultados:\")\n",
        "print(tabulate(results_df, headers='keys', tablefmt='psql', showindex=False))"
      ],
      "metadata": {
        "colab": {
          "base_uri": "https://localhost:8080/"
        },
        "id": "4di1VI7p3jRp",
        "outputId": "aecb3f7b-854e-4beb-db7c-a48ed9f1d903"
      },
      "execution_count": null,
      "outputs": [
        {
          "output_type": "stream",
          "name": "stdout",
          "text": [
            "Parámetros de entrada:\n",
            "+---------------------------------+----------+------------+\n",
            "| Parámetro                       | Unidad   |      Valor |\n",
            "|---------------------------------+----------+------------|\n",
            "| Altura de la ola                | m        |  3         |\n",
            "| Periodo de la ola               | s        | 14         |\n",
            "| Velocidad del viento            | m/s      | 20         |\n",
            "| Coeficiente de refracción       | -        |  0.9       |\n",
            "| Coef. de sustentación oleaje    | -        |  1.5       |\n",
            "| Coef. de arrastre oleaje        | -        |  1         |\n",
            "| Velocidad de corriente          | m/s      |  0.4       |\n",
            "| Coef. de sustentación corriente | -        |  1.5       |\n",
            "| Coef. de arrastre corriente     | -        |  1.2       |\n",
            "| Diámetro exterior               | m        |  0.355     |\n",
            "| Área efectiva                   | m^2      |  0.0989798 |\n",
            "+---------------------------------+----------+------------+\n",
            "\n",
            "Resultados:\n",
            "+-----------------------+-------------------+--------------------------+----------------------+----------------------+------------------+\n",
            "|             Fuerza de |         Fuerza de |                Fuerza de |            Fuerza de |            Fuerza de |        Fuerza de |\n",
            "|   sustentación oleaje |   arrastre oleaje |   sustentación corriente |   arrastre corriente |   sustentación total |   arrastre total |\n",
            "|                 (N/m) |             (N/m) |                    (N/m) |                (N/m) |                (N/m) |            (N/m) |\n",
            "|-----------------------+-------------------+--------------------------+----------------------+----------------------+------------------|\n",
            "|               100.181 |           66.7872 |                   43.665 |               34.932 |              143.846 |          101.719 |\n",
            "+-----------------------+-------------------+--------------------------+----------------------+----------------------+------------------+\n"
          ]
        }
      ]
    },
    {
      "cell_type": "markdown",
      "source": [
        "##Evaluación Estructural tubería y distanciamiento de fondeos"
      ],
      "metadata": {
        "id": "nua8D85iD6xD"
      }
    },
    {
      "cell_type": "code",
      "source": [
        "def modulo_inercia(diametro_exterior, espesor):\n",
        "    radio_exterior = diametro_exterior / 2\n",
        "    radio_interior = radio_exterior - espesor\n",
        "    I = (math.pi / 4) * (radio_exterior**4 - radio_interior**4)\n",
        "    return I\n",
        "\n",
        "# Constantes\n",
        "E = 1.4E9  # Módulo de elasticidad en Pa\n",
        "\n",
        "# Calcular la carga distribuida resultante\n",
        "carga_distribuida = math.sqrt((peso_total - lift - empuje) ** 2 + drag ** 2)\n",
        "print(f\"Carga distribuida resultante: {carga_distribuida:.2f} N/m\")\n",
        "\n",
        "# Calcular el momento flector máximo para una viga empotrada\n",
        "distancia_entre_fondeos = 5.5  # m\n",
        "momento_flector_max = carga_distribuida * distancia_entre_fondeos**2 / 12.0\n",
        "print(f\"Momento flector máximo: {momento_flector_max:.2f} Nm\")\n",
        "\n",
        "# Calcular el módulo de inercia (I)\n",
        "I = modulo_inercia(DIAMETRO_EXT, ESPESOR)\n",
        "print(f\"Módulo de inercia: {I:.2e} m^4\")\n",
        "\n",
        "# Calcular la deformación máxima en la viga empotrada\n",
        "deformacion_max = carga_distribuida * distancia_entre_fondeos**4 / (384 * E * I)\n",
        "print(f\"Deformación máxima: {deformacion_max:.2e} m\")\n",
        "\n",
        "# Calcular porcentaje de deformación\n",
        "deformacion_max = carga_distribuida * distancia_entre_fondeos**4 / (384 * E * I)\n",
        "porcentaje_def = 100 * deformacion_max / DIAMETRO_EXT\n",
        "print(f\"Porcentaje de deformacion: {porcentaje_def * 100:.3f} %\")\n"
      ],
      "metadata": {
        "colab": {
          "base_uri": "https://localhost:8080/"
        },
        "id": "_m2cvPgzD7Cs",
        "outputId": "93b0cb8d-19a7-42a5-a262-10fb9c491928"
      },
      "execution_count": null,
      "outputs": [
        {
          "output_type": "stream",
          "name": "stdout",
          "text": [
            "Carga distribuida resultante: 355.50 N/m\n",
            "Momento flector máximo: 896.17 Nm\n",
            "Módulo de inercia: 2.13e-04 m^4\n",
            "Deformación máxima: 2.84e-03 m\n",
            "Porcentaje de deformacion: 0.801 %\n"
          ]
        }
      ]
    },
    {
      "cell_type": "code",
      "source": [
        "#EVALUACION\n",
        "\n",
        "DIAMETRO_EXT = .355 #m3\n",
        "porcentaje_aire = 20 #%\n",
        "\n",
        "def evaluacion(i, l, DIAMETRO_EXT, porcentaje_aire):\n",
        "    ESPESOR = DIAMETRO_EXT / sdr[i]\n",
        "\n",
        "    peso_total = peso_tubo(DIAMETRO_EXT, ESPESOR, DENSIDAD_HDPE, DENSIDAD_AIRE, DENSIDAD_AGUA, DENSIDAD_AGUA_MAR, porcentaje_aire)\n",
        "    empuje = empuje_agua_mar(DIAMETRO_EXT, ESPESOR, DENSIDAD_AGUA_MAR)\n",
        "    lift_w, drag_w = lift_drag_wave(Hwave, Twave, Vwind, Vc, fref, CL_wave, CD_wave, DENSIDAD_AGUA_MAR, 9.81, DIAMETRO_EXT, Ae)\n",
        "    lift_c, drag_c = lift_drag_current(Vc, CL_c, CD_c, DENSIDAD_AGUA_MAR, 9.81, DIAMETRO_EXT)\n",
        "\n",
        "    drag = drag_w + drag_c\n",
        "    lift = lift_w + lift_c\n",
        "\n",
        "    # Constantes\n",
        "    E = 1.4E9  # Módulo de elasticidad en Pa\n",
        "\n",
        "    # Calcular la carga distribuida resultante (N/m)\n",
        "    carga_distribuida = math.sqrt((peso_total - lift - empuje) ** 2 + drag ** 2)\n",
        "\n",
        "    # Calcular el módulo de inercia I (m4)\n",
        "    I = modulo_inercia(DIAMETRO_EXT, ESPESOR)\n",
        "\n",
        "    # Calcular el momento flector máximo para una viga empotrada (Nm)\n",
        "    momento_flector_max = carga_distribuida * l**2 / 12.0\n",
        "\n",
        "    # Calcular porcentaje de deformación\n",
        "    deformacion_max = carga_distribuida * distancia_entre_fondeos**4 / (384 * E * I)\n",
        "    porcentaje_def = 100 * deformacion_max / DIAMETRO_EXT\n",
        "\n",
        "    return(porcentaje_def)\n",
        "\n",
        "print(evaluacion(2, 5.5, DIAMETRO_EXT, porcentaje_aire))"
      ],
      "metadata": {
        "colab": {
          "base_uri": "https://localhost:8080/"
        },
        "id": "ftxxt26nPCA2",
        "outputId": "14e1635e-13a6-42ea-b172-a2297a3a38c5"
      },
      "execution_count": null,
      "outputs": [
        {
          "output_type": "stream",
          "name": "stdout",
          "text": [
            "0.7978448035598638\n"
          ]
        }
      ]
    },
    {
      "cell_type": "code",
      "source": [],
      "metadata": {
        "id": "2XQu0o47NRpw"
      },
      "execution_count": null,
      "outputs": []
    }
  ]
}